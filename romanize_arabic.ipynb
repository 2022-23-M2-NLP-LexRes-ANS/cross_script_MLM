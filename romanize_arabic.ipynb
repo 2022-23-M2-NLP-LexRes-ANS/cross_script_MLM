{
 "cells": [
  {
   "cell_type": "code",
   "execution_count": null,
   "id": "6e4066b4",
   "metadata": {},
   "outputs": [],
   "source": [
    "# Download arabic wikipedia extract\n",
    "\n",
    "# Extract it with WikiExtractor\n",
    "\n",
    "# Clean the wikimarkup out (with e.g. simple regex methods)\n",
    "\n",
    "# Tokenize it (possibly using BlingFire's bert_multi_cased.bin)\n",
    "\n",
    "# Romanize it with uroman (?romanize or tokenize first?)"
   ]
  },
  {
   "cell_type": "code",
   "execution_count": null,
   "id": "90398ba8",
   "metadata": {
    "ExecuteTime": {
     "end_time": "2023-02-11T14:00:36.537503Z",
     "start_time": "2023-02-11T14:00:33.906119Z"
    }
   },
   "outputs": [],
   "source": [
    "! conda activate LexResProject && pip install -r requirements.ar_rom.txt"
   ]
  },
  {
   "cell_type": "code",
   "execution_count": 76,
   "id": "19ef618b",
   "metadata": {
    "ExecuteTime": {
     "end_time": "2023-02-11T14:09:42.771117Z",
     "start_time": "2023-02-11T14:09:42.764501Z"
    }
   },
   "outputs": [],
   "source": [
    "# import contextlib\n",
    "# import hashlib\n",
    "# import itertools\n",
    "import os\n",
    "\n",
    "# import shutil\n",
    "import sys\n",
    "import time\n",
    "\n",
    "# from collections import namedtuple\n",
    "\n",
    "import logging as logger\n",
    "import random\n",
    "from pathlib import Path"
   ]
  },
  {
   "cell_type": "code",
   "execution_count": 77,
   "id": "80d8f8e8",
   "metadata": {
    "ExecuteTime": {
     "end_time": "2023-02-11T14:09:43.143467Z",
     "start_time": "2023-02-11T14:09:43.136100Z"
    }
   },
   "outputs": [],
   "source": [
    "\"\"\"\n",
    "import filehash\n",
    "import fire\n",
    "import numpy\n",
    "import pandas as pd\n",
    "import pendulum\n",
    "import sarge\n",
    "import torch\n",
    "\"\"\"\n",
    "\n",
    "import blingfire\n",
    "import seaborn as sns\n",
    "import matplotlib.pyplot as plt\n",
    "import pandas as pd"
   ]
  },
  {
   "cell_type": "code",
   "execution_count": null,
   "id": "09ee48e7",
   "metadata": {
    "ExecuteTime": {
     "end_time": "2023-02-09T15:24:42.494687Z",
     "start_time": "2023-02-09T15:24:42.488061Z"
    }
   },
   "outputs": [],
   "source": [
    "def _download_file_maybe(url: str, out_file_path=None):\n",
    "    \"\"\"NOTE: FUNCTION NOT WORKING.\n",
    "\n",
    "    Download a file unless a file already exists at destination path. In all\n",
    "    cases, log a digest with checksum of the file that is present.\"\"\"\n",
    "    if out_file_path is None:\n",
    "        out_file_path = Path(\".\") / Path(Path(url).name)\n",
    "\n",
    "    if out_file_path.is_file():\n",
    "        logger.warning(\n",
    "            \"Not downloading because there is already a file at: {} ({})\".format(\n",
    "                out_file_path, out_file_path.absolute()\n",
    "            )\n",
    "        )\n",
    "    else:\n",
    "        logger.info(\n",
    "            \"Now we are going to download the COHA sample corpus from the internet\"\n",
    "        )\n",
    "        # https://stackoverflow.com/questions/1078524/how-to-specify-the-download-location-with-wget\n",
    "        command = sarge.shell_format(\"wget -q -O {} {} \", out_file_path, url)\n",
    "        # logger.info(f'Running {command=}')\n",
    "        _run_cmd(command, cmd_label=\"wget\")\n",
    "\n",
    "    logger.debug(f\"{file_info_digest(out_file_path)=}\")"
   ]
  },
  {
   "cell_type": "markdown",
   "id": "8eaf776d",
   "metadata": {
    "ExecuteTime": {
     "end_time": "2023-02-09T15:38:47.054384Z",
     "start_time": "2023-02-09T15:38:47.046389Z"
    }
   },
   "source": [
    "## Download arabic wikipedia extract"
   ]
  },
  {
   "cell_type": "markdown",
   "id": "567340fa",
   "metadata": {
    "ExecuteTime": {
     "end_time": "2023-02-09T15:38:47.054384Z",
     "start_time": "2023-02-09T15:38:47.046389Z"
    }
   },
   "source": [
    "```\n",
    "NO! # https://dumps.wikimedia.org/arwiki/latest/arwiki-latest-pages-articles.xml.bz2\n",
    "YES # https://dumps.wikimedia.org/arwiki/20230201/arwiki-20230201-pages-articles.xml.bz2\n",
    "\n",
    "https://dumps.wikimedia.org/arwiki/20230201/arwiki-20230201-sha1sums.txt\n",
    "```\n",
    "\n",
    "https://dumps.wikimedia.org/arwiki/20230201/\n",
    "\n",
    "See instructions here: https://github.com/attardi/wikiextractor "
   ]
  },
  {
   "cell_type": "code",
   "execution_count": 3,
   "id": "6f009d20",
   "metadata": {
    "ExecuteTime": {
     "end_time": "2023-02-09T15:37:47.084367Z",
     "start_time": "2023-02-09T15:37:45.445628Z"
    },
    "scrolled": true
   },
   "outputs": [
    {
     "name": "stderr",
     "output_type": "stream",
     "text": [
      "--2023-02-10 23:26:10--  https://dumps.wikimedia.org/arwiki/20230201/arwiki-20230201-sha1sums.txt\n",
      "Resolving dumps.wikimedia.org (dumps.wikimedia.org)... 208.80.154.142, 2620:0:861:2:208:80:154:142\n",
      "Connecting to dumps.wikimedia.org (dumps.wikimedia.org)|208.80.154.142|:443... connected.\n",
      "HTTP request sent, awaiting response... 200 OK\n",
      "Length: 19150 (19K) [text/plain]\n",
      "Saving to: ‘arwiki-20230201-sha1sums.txt.1’\n",
      "\n",
      "     0K .......... ........                                   100%  131M=0s\n",
      "\n",
      "2023-02-10 23:26:11 (131 MB/s) - ‘arwiki-20230201-sha1sums.txt.1’ saved [19150/19150]\n",
      "\n"
     ]
    }
   ],
   "source": [
    "%%bash\n",
    "# wget https://dumps.wikimedia.org/arwiki/20230201/arwiki-20230201-sha1sums.txt"
   ]
  },
  {
   "cell_type": "code",
   "execution_count": 90,
   "id": "8ba78529",
   "metadata": {
    "ExecuteTime": {
     "end_time": "2023-02-11T14:36:45.640987Z",
     "start_time": "2023-02-11T14:36:45.630423Z"
    }
   },
   "outputs": [
    {
     "data": {
      "text/plain": [
       "' 1.38G  4.32MB/s    in 5m 27s  '"
      ]
     },
     "execution_count": 90,
     "metadata": {},
     "output_type": "execute_result"
    }
   ],
   "source": [
    "\"\"\" 1.38G  4.32MB/s    in 5m 27s  \"\"\"\n",
    "#! wget https://dumps.wikimedia.org/arwiki/20230201/arwiki-20230201-pages-articles.xml.bz2"
   ]
  },
  {
   "cell_type": "code",
   "execution_count": 4,
   "id": "377a8f3d",
   "metadata": {
    "ExecuteTime": {
     "end_time": "2023-02-09T15:41:13.247791Z",
     "start_time": "2023-02-09T15:41:08.665444Z"
    }
   },
   "outputs": [
    {
     "name": "stdout",
     "output_type": "stream",
     "text": [
      "arwiki-20230201-pages-articles.xml.bz2: OK\n"
     ]
    }
   ],
   "source": [
    "%%bash\n",
    "sha1sum --ignore-missing --check arwiki-20230201-sha1sums.txt"
   ]
  },
  {
   "cell_type": "markdown",
   "id": "98d62449",
   "metadata": {
    "ExecuteTime": {
     "end_time": "2023-02-09T15:57:51.527142Z",
     "start_time": "2023-02-09T15:57:51.521258Z"
    }
   },
   "source": [
    "## Extract it with WikiExtractor"
   ]
  },
  {
   "cell_type": "code",
   "execution_count": 6,
   "id": "9c028ec0-cf97-4f8a-9137-01a6d0e83783",
   "metadata": {
    "ExecuteTime": {
     "end_time": "2023-02-09T15:57:51.527142Z",
     "start_time": "2023-02-09T15:57:51.521258Z"
    }
   },
   "outputs": [],
   "source": [
    "\"\"\"\n",
    "NOTE: wikiextractor will not work with python 3.11. It will work with 3.10.\n",
    "\n",
    "Option --no-templates significantly speeds up the extractor, avoiding the cost of expanding MediaWiki templates.\n",
    "\"\"\"\n",
    "# ! time python -m wikiextractor.WikiExtractor arwiki-20230201-pages-articles.xml.bz2"
   ]
  },
  {
   "cell_type": "markdown",
   "id": "b6905e30-8ee2-439c-b5f3-dc674dab1ba3",
   "metadata": {
    "ExecuteTime": {
     "end_time": "2023-02-09T15:57:51.527142Z",
     "start_time": "2023-02-09T15:57:51.521258Z"
    },
    "tags": []
   },
   "source": [
    "With template processing:\n",
    "```\n",
    "INFO: Preprocessed 3400000 pages\n",
    "INFO: Loaded 126172 templates in 425.4s\n",
    "```"
   ]
  },
  {
   "cell_type": "code",
   "execution_count": 6,
   "id": "602859c8-e82d-4e1b-a689-04abf3eeab21",
   "metadata": {
    "ExecuteTime": {
     "end_time": "2023-02-09T15:57:51.527142Z",
     "start_time": "2023-02-09T15:57:51.521258Z"
    }
   },
   "outputs": [
    {
     "data": {
      "text/plain": [
       "'\\nWith template procesing included:\\n\\n...\\nINFO: Preprocessed 3400000 pages\\nINFO: Loaded 126172 templates in 425.4s\\n'"
      ]
     },
     "execution_count": 6,
     "metadata": {},
     "output_type": "execute_result"
    }
   ],
   "source": [
    "\"\"\"With --no-templates, we jump immediately to the extraction step (no preprocessing pages).\"\"\"\n",
    "\n",
    "# ! time python -m wikiextractor.WikiExtractor --no-templates arwiki-20230201-pages-articles.xml.bz2"
   ]
  },
  {
   "cell_type": "markdown",
   "id": "98a549a4",
   "metadata": {},
   "source": [
    "```bash\n",
    "╭─user at s-m2tal in ⌁/cours/LexResCerisara/ANSProj/faroese_mBERT (scott ●3…104)\n",
    "╰─λ time python -m wikiextractor.WikiExtractor --no-templates arwiki-20230201-pages-articles.xml.bz2                                    (LexResProject)\n",
    "\n",
    "INFO: Starting page extraction from arwiki-20230201-pages-articles.xml.bz2.\n",
    "INFO: Using 1 extract processes.\n",
    "INFO: Extracted 100000 articles (1094.8 art/s)\n",
    "INFO: Extracted 200000 articles (1673.1 art/s)\n",
    "INFO: Extracted 300000 articles (1844.7 art/s)\n",
    "INFO: Extracted 400000 articles (1650.6 art/s)\n",
    "INFO: Extracted 500000 articles (1812.1 art/s)\n",
    "INFO: Extracted 600000 articles (1985.7 art/s)\n",
    "INFO: Extracted 700000 articles (3096.2 art/s)\n",
    "INFO: Extracted 800000 articles (2146.3 art/s)\n",
    "INFO: Extracted 900000 articles (2016.3 art/s)\n",
    "INFO: Extracted 1000000 articles (1978.5 art/s)\n",
    "INFO: Extracted 1100000 articles (1490.3 art/s)\n",
    "INFO: Extracted 1200000 articles (2329.1 art/s)\n",
    "INFO: Extracted 1300000 articles (2531.2 art/s)\n",
    "INFO: Extracted 1400000 articles (2942.8 art/s)\n",
    "INFO: Extracted 1500000 articles (3129.7 art/s)\n",
    "INFO: Extracted 1600000 articles (2685.5 art/s)\n",
    "INFO: Extracted 1700000 articles (3340.0 art/s)\n",
    "INFO: Extracted 1800000 articles (2942.4 art/s)\n",
    "INFO: Extracted 1900000 articles (1992.6 art/s)\n",
    "INFO: Extracted 2000000 articles (1589.1 art/s)\n",
    "INFO: Extracted 2100000 articles (1736.0 art/s)\n",
    "INFO: Extracted 2200000 articles (1526.2 art/s)\n",
    "INFO: Finished 1-process extraction of 2219910 articles in 1115.8s (1989.6 art/s)\n",
    "\n",
    "________________________________________________________\n",
    "Executed in   18.60 mins   fish           external \n",
    "   usr time  1541.75 secs  357.00 micros  1541.75 secs \n",
    "   sys time   87.66 secs  135.00 micros   87.66 secs \n",
    "\n",
    "╭─user at s-m2tal in ⌁/cours/LexResCerisara/ANSProj/faroese_mBERT (scott ●3✚1…2261)\n",
    "╰─λ                                                                                                                                  (LexResProject) 0 (18:35.847) < 17:18:1100000\n",
    "    \n",
    "```"
   ]
  },
  {
   "cell_type": "markdown",
   "id": "e841b83a",
   "metadata": {},
   "source": [
    "https://github.com/attardi/wikiextractor/wiki/File-Format\n",
    "\n",
    "\"\n",
    "Document files contains a series of Wikipedia articles, represented each by an XML <tt>doc</tt> element: ... ... ... ...\n",
    "\n",
    "The element <tt>doc</tt> has the following attributes:\n",
    "\n",
    "    <tt>id</tt>, which identifies the document by means of a unique serial number\n",
    "    <tt>url</tt>, which provides the URL of the original Wikipedia page.\n",
    "\n",
    "The content of a <tt>doc</tt> element consists of pure text, one sentence per line.\n",
    "\n",
    "Here is an example of a <tt>doc</tt> element:\n",
    "Harmonium. L'harmonium è uno strumento musicale azionato con una tastiera, detta manuale. Sono stati costruiti anche alcuni harmonium con due manuali. ...\n",
    "\n",
    "Notice that because of Wikipedia conventions, the first sentence is the title of the article.\n",
    "\n",
    "Such documents are produced by Wikipedia Extractor .\n",
    "\""
   ]
  },
  {
   "cell_type": "markdown",
   "id": "1b7da03a",
   "metadata": {},
   "source": [
    "## Clean the wikimarkup out\n",
    "\n",
    "\n",
    "See:\n",
    "https://towardsdatascience.com/pre-processing-a-wikipedia-dump-for-nlp-model-training-a-write-up-3b9176fdf67  \n",
    "\n",
    "According to this link, simple regexes should do the trick.\n",
    "Note that if we want to downsample the corpus in an article-aware way, we should do so before removing these `<doc>` tags.\n",
    "\n",
    "```bash\n",
    "python3 -m wikiextractor.WikiExtractor  $WIKI_DUMP_FILE_IN --processes 8 -q -o - \\\n",
    "| sed \"/^\\s*\\$/d\" \\\n",
    "| grep -v \"^<doc id=\" \\\n",
    "| grep -v \"</doc>\\$\" \\\n",
    "> $WIKI_DUMP_FILE_OUT\n",
    "```\n",
    "\n",
    "Strategy 1:\n",
    "\n",
    "To maintain flexibility in corpus generation, filtering etc, and because we are not sure how subsequent operations (e.g. uroman-quick.pl) will perform on gigantic files; \n",
    "we will keep things in an array of files at this step, and concat everything into one giant file later. \n",
    "\n",
    "We can always merge everything easily, but splitting back into small files after merging is harder.\n",
    "\n",
    "Note however that there may be some performance hit, due to starting up a new process for each file in the loop. \n",
    "Unclear how much performance may/may not be lost.\n",
    "\n",
    "This would look like: \n",
    "Build a list of files to clean based on a directory and/or glob, then make a list of paths for the cleaned output files -- at a different dir prefix. \n",
    "Then loop thru the clean operation, cleaning each one.\n",
    "\n",
    "Note, can also use built-in `fileinput` module. https://towardsdatascience.com/the-best-practice-of-reading-text-files-in-python-509b1d4f5a4  \n",
    "\n",
    "Strategy 2:\n",
    "\n",
    "Merge-concat everything into one file now, and be done with it. Just work with a single megafile from here onward.\n",
    "This does seem easiest since we can use straight bash commands for filtering without worrying about looping (and feeding multiple paths) in bash.\n",
    "\n",
    "**We will use strategy 2 (merge-concat everything into one file now).**\n",
    "\n",
    "In one step, we will do the concatenation *and* strip wikitext markup with some simple regexes."
   ]
  },
  {
   "cell_type": "code",
   "execution_count": 3,
   "id": "01d1a46a",
   "metadata": {
    "ExecuteTime": {
     "end_time": "2023-02-10T14:57:16.833800Z",
     "start_time": "2023-02-10T14:56:40.533258Z"
    }
   },
   "outputs": [
    {
     "name": "stderr",
     "output_type": "stream",
     "text": [
      "\n",
      "real\t0m36.276s\n",
      "user\t0m48.141s\n",
      "sys\t0m8.904s\n"
     ]
    }
   ],
   "source": [
    "%%bash \n",
    "# time cat text/*/* | sed \"/^\\s*\\$/d\" | grep -v \"^<doc id=\" | grep -v \"</doc>\\$\"  > corpus_ar.txt"
   ]
  },
  {
   "cell_type": "code",
   "execution_count": 6,
   "id": "83595f79",
   "metadata": {
    "ExecuteTime": {
     "end_time": "2023-02-10T23:28:09.711249Z",
     "start_time": "2023-02-10T23:28:09.689947Z"
    }
   },
   "outputs": [
    {
     "name": "stdout",
     "output_type": "stream",
     "text": [
      "ماء\n",
      "الماء مادةٌ شفافةٌ عديمة اللون والرائحة، وهو المكوّن الأساسي للجداول والبحيرات والبحار والمحيطات وكذلك للسوائل في جميع الكائنات الحيّة، وهو أكثر المركّبات الكيميائيّة انتشاراً على سطح الأرض. يتألّف جزيء الماء من ذرّة أكسجين مركزية ترتبط بها ذرّتا هيدروجين على طرفيها برابطة تساهميّة بحيث تكون صيغته الكيميائية H2O. عند الظروف القياسية من الضغط ودرجة الحرارة يكون الماء سائلاً؛ أمّا الحالة الصلبة فتتشكّل عند نقطة التجمّد، وتدعى بالجليد؛ أمّا الحالة الغازية فتتشكّل عند نقطة الغليان، وتسمّى بخار الماء.\n"
     ]
    }
   ],
   "source": [
    "%%bash\n",
    "head -n 2 corpus_ar.txt"
   ]
  },
  {
   "cell_type": "markdown",
   "id": "8ebd8bbc",
   "metadata": {},
   "source": [
    "## Tokenize it (possibly using BlingFire's bert_multi_cased.bin)"
   ]
  },
  {
   "cell_type": "code",
   "execution_count": 309,
   "id": "535f4c7a",
   "metadata": {
    "ExecuteTime": {
     "end_time": "2023-02-10T17:53:54.552060Z",
     "start_time": "2023-02-10T17:53:54.543970Z"
    }
   },
   "outputs": [],
   "source": [
    "BLINGFIRE_MODEL_FILENAME = \"bert_multi_cased.bin\"\n",
    "\n",
    "\n",
    "def _tokenize_with_model(h, wiki_dump_file_in, wiki_dump_file_out=\"\"):\n",
    "    \"\"\"expects entire corpus in a single file.\n",
    "\n",
    "    h: a blingfire model object.\"\"\"\n",
    "    wiki_dump_file_in = Path(wiki_dump_file_in)\n",
    "    if wiki_dump_file_out == \"\":\n",
    "        wiki_dump_file_out = (\n",
    "            wiki_dump_file_in.parent\n",
    "            / f\"{wiki_dump_file_in.stem}_preprocessed{wiki_dump_file_in.suffix}\"\n",
    "        )\n",
    "\n",
    "    print(f\"Pre-processing {wiki_dump_file_in} to {wiki_dump_file_out}...\")\n",
    "    with open(wiki_dump_file_out, \"w\", encoding=\"utf-8\") as out_f:\n",
    "        with open(wiki_dump_file_in, \"r\", encoding=\"utf-8\") as in_f:\n",
    "            for line in in_f:\n",
    "                # sentences = blingfire.text_to_sentences_with_model(h, line)\n",
    "                sentences = blingfire.text_to_words_with_model(h, line)\n",
    "                out_f.write(sentences + \"\\n\")\n",
    "    print(f\"Successfully pre-processed {wiki_dump_file_in} to {wiki_dump_file_out}...\")\n",
    "\n",
    "\n",
    "def do_tokenize(wiki_dump_file_in, wiki_dump_file_out=\"\"):\n",
    "    \"\"\"expects entire corpus in a single file\"\"\"\n",
    "    # one time load the model (we are using one that comes with the package)\n",
    "    h = blingfire.load_model(\n",
    "        os.path.join(os.path.dirname(blingfire.__file__), BLINGFIRE_MODEL_FILENAME)\n",
    "    )\n",
    "    print(\"Model Handle: %s\" % h)\n",
    "\n",
    "    _tokenize_with_model(h, wiki_dump_file_in, wiki_dump_file_out=wiki_dump_file_out)\n",
    "\n",
    "    # free the model at the end\n",
    "    blingfire.free_model(h)\n",
    "    print(\"Model Freed\")"
   ]
  },
  {
   "cell_type": "code",
   "execution_count": 311,
   "id": "52597bb7",
   "metadata": {
    "ExecuteTime": {
     "end_time": "2023-02-10T18:02:34.590150Z",
     "start_time": "2023-02-10T17:58:38.523665Z"
    }
   },
   "outputs": [
    {
     "name": "stdout",
     "output_type": "stream",
     "text": [
      "Model Handle: 100702745346864\n",
      "Pre-processing corpus_ar.txt to corpus_ar_preprocessed.txt...\n",
      "Successfully pre-processed corpus_ar.txt to corpus_ar_preprocessed.txt...\n",
      "Model Freed\n"
     ]
    }
   ],
   "source": [
    "do_tokenize(\"corpus_ar.txt\")"
   ]
  },
  {
   "cell_type": "markdown",
   "id": "87724f30",
   "metadata": {},
   "source": [
    "^ for above:\n",
    "```bash\n",
    "executed in 3m 39s\n",
    "\n",
    "Model Handle: 100702737517696\n",
    "Pre-processing corpus_ar.txt to corpus_ar_preprocessed.txt...\n",
    "Successfully pre-processed corpus_ar.txt to corpus_ar_preprocessed.txt...\n",
    "Model Freed\n",
    "```"
   ]
  },
  {
   "cell_type": "code",
   "execution_count": 32,
   "id": "6214769e",
   "metadata": {
    "ExecuteTime": {
     "end_time": "2023-02-10T21:44:51.592394Z",
     "start_time": "2023-02-10T21:44:51.548712Z"
    }
   },
   "outputs": [
    {
     "name": "stdout",
     "output_type": "stream",
     "text": [
      "ماء ما ء\n",
      "الماء الماء مادةٌ ما دة ٌ شفافةٌ ش فاف ة ٌ عديمة ع دي مة اللون اللون والرائحة و ال را ئ حة ، ، وهو وهو المكوّن ال م كو ّ ن الأساسي ال أس اسي للجداول ل ل جد اول والبحيرات و ال بح ير ات والبحار و ال بح ار والمحيطات و الم حي طات وكذلك وكذلك للسوائل ل لس وا ئل في في جميع جميع الكائنات ال كا ئن ات الحيّة ال حي ّة ، ، وهو وهو أكثر أكثر المركّبات ال مر ك ّ بات الكيميائيّة ال كي مي ائي ّة انتشاراً انتشار اً على على سطح سطح الأرض الأرض . . يتألّف ي ت أ ل ّ ف جزيء ج زي ء الماء الماء من من ذرّة ذ ر ّة أكسجين أ كس جين مركزية مركز ية ترتبط تر تب ط بها بها ذرّتا ذ ر ّ تا هيدروجين هي در وج ين على على طرفيها طرف يها برابطة بر اب طة تساهميّة ت سا هم يّة بحيث بحيث تكون تكون صيغته ص ي غ ته الكيميائية ال كي مي ائية H2O H 2 O . . عند عند الظروف ال ظر وف القياسية ال قياس ية من من الضغط الضغط ودرجة و در جة الحرارة الحرارة يكون يكون الماء الماء سائلاً س ائل اً ؛ ؛ أمّا أم ّ ا الحالة الحالة الصلبة ال صل بة فتتشكّل ف ت تش ك ّل عند عند نقطة نقطة التجمّد ال تج م ّ د ، ، وتدعى و ت دعى بالجليد با ل جل يد ؛ ؛ أمّا أم ّ ا الحالة الحالة الغازية ال غا زية فتتشكّل ف ت تش ك ّل عند عند نقطة نقطة الغليان ال غل يان ، ، وتسمّى و تس م ّ ى بخار ب خار الماء الماء . .\n"
     ]
    }
   ],
   "source": [
    "%%bash\n",
    "head -n 2 corpus_ar_preprocessed.txt\n",
    "# wc -l corpus_ar_preprocessed.txt"
   ]
  },
  {
   "cell_type": "markdown",
   "id": "10647265",
   "metadata": {},
   "source": [
    "### Arabic sentence segmentation"
   ]
  },
  {
   "cell_type": "markdown",
   "id": "6835c648",
   "metadata": {},
   "source": [
    "*NOTE: We will not actually be applying this step for now, but it may be a good idea for future work. Instead, to deal with large sentences/strings, we may need to filter corpus by line length and/or reduce batch size during MLM.*\n",
    "\n",
    "See: https://assets.amazon.science/18/06/3e43f73341c6ac8ee8e725db5f14/cross-lingual-transfer-for-low-resource-arabic-language-understanding.pdf  \n",
    "\n",
    "“... we collect Wikipedia dumps for Arabic (ar), English (en), and French (fr) and extract their content using WikiExtractor package (Attardi, 2015). \n",
    "For ar-Wikipedia data, in addition to the preprocessing described in the previous section, we split sentences based on full stop, along with semicolon and comma if the sentence length is greater than 25 tokens, because commas are commonly used in Arabic as a sentence delimiter, and the full stop is used at the end of a paragraph. \n",
    "The extracted Wikipedia data accounts for ≈6.3M, 98.5M, 34.2M sentences for ar, en, and fr, respectively, as listed in Table 2.”\n",
    "\n",
    "NOTE: WikiExtractor is also used by Chau et al. (for Irish, Maltese, Vietnamese).\n",
    "\n",
    "\n",
    "\"tnkeeh (تنقيح) is an Arabic preprocessing library for python. It was designed using re for creating quick replacement expressions for several examples.\"\n",
    "https://github.com/ARBML/tnkeeh \n",
    "\n",
    "https://github.com/ARBML/tkseem\n",
    "https://colab.research.google.com/github/ARBML/tkseem/blob/master/tasks/sentiment_analysis/Sentiment%20Analysis.ipynb#scrollTo=4ppjh2C7wslp\n",
    "\n",
    "https://github.com/MagedSaeed/farasapy  \"This is a Python API wrapper for farasa [http://qatsdemo.cloudapp.net/farasa/] toolkit. Although this work is licsenced under MIT, the original work(the toolkit) is strictly premitted for research purposes only. For any commercial uses, please contact the toolkit creators[http://qatsdemo.cloudapp.net/farasa/]. ... The toolkit is built and compiled in Java. Developers who want to use it without using this library may call the binaries directly from their code.\"\n",
    "\n",
    "https://alt.qcri.org/farasa/  \"Farasa (which means “insight” in Arabic), is a fast and accurate text processing toolkit for Arabic text. Farasa can do segmentation, lemmatization, POS tagging, Arabic diacritization, dependency parsing, constituency parsing, named-entity recognition, and spell-checking.\"\n",
    "https://farasa.qcri.org/segmentation/\n",
    "\n",
    "ARBERT & MARBERT\n",
    "https://github.com/UBC-NLP/marbert \n",
    "https://aclanthology.org/2021.acl-long.551.pdf \n",
    "\n",
    "AraBERT https://aclanthology.org/2020.osact-1.2.pdf \n",
    "\n",
    "https://www.researchgate.net/figure/Comparison-between-Arabic-BERT-a-and-mBERT-b-tokenizer_fig2_355762245  \n",
    "\n",
    "https://yoast.com/developer-blog/splitting-rtl-texts-into-sentences/\n",
    "\n",
    "https://dl.acm.org/doi/pdf/10.5555/1654576.1654588  \"Arabic Tokenization System\", Mohammed A. Attia, 2007.\n"
   ]
  },
  {
   "cell_type": "code",
   "execution_count": 29,
   "id": "85a7baa2",
   "metadata": {
    "ExecuteTime": {
     "end_time": "2023-02-10T23:44:40.649443Z",
     "start_time": "2023-02-10T23:44:40.636432Z"
    }
   },
   "outputs": [
    {
     "name": "stdout",
     "output_type": "stream",
     "text": [
      "len(splitt)=17\n",
      "['اختلف كامل بشدة مع ادعاءات اللورد كرومر المتكررة بأن «الشرقيين» ليس لديهم '\n",
      " 'نفس القدرة على التفكير التي يتمتع بها الأوروبيون، وكانت الكثير من كتاباته '\n",
      " 'معنية بإظهار أن المصريين عاقلون ولديهم القدرة على التفكير الذكي',\n",
      " 'كما هاجم كامل كرومر في خطاب لمحاولته «إنهاء النفوذ الفرنسي، الذي لا يزال '\n",
      " 'واسع النطاق ومهيمنًا بشكل مفرط»',\n",
      " 'رأى كامل بأن النظام التعليمي المصري الذي كان في يوم من الأيام مكانًا '\n",
      " '«للمعلمين المصريين المخلصين والفرنسيين، هو الآن مكان التقاء المغامرين '\n",
      " 'البريطانيين الأكثر جهلًا والأكثر غرورًا',\n",
      " '',\n",
      " '',\n",
      " 'يحاول البريطانيون إنشاء مدارس أنجلوفيلية بحتة لأطفالنا',\n",
      " 'لن تصدق كمية دروس الكراهية التي تعطى يوميا ضد فرنسا وتركيا.» انتقد كامل '\n",
      " 'كرومر كثيرًا لإهماله النظام التعليمي المصري، مجادلاً بأنه إذا كان كرومر قد '\n",
      " 'اهتم بتعليم المصريين بدلاً من سداد الديون التي تراكمت على إسماعيل من خلال '\n",
      " 'استغلال مصر، لكان قد رأى أن المصريين يمتلكون الذكاء الذي نفى أنهم يمتلكونه',\n",
      " 'وفي خطاب إلى «\"سوسيتي دو جيوغرافي دو باريس»،\" احتج كامل على التلميحات بأن '\n",
      " '«المصريين لا يصلحون لحكم بلدهم» ووصفها بالافتراء، الذي يمكن لأي شخص عاقل '\n",
      " 'دحضه.\" عند كتابته للجماهير الأوروبية، وخاصة الفرنسية، كثيرا ما هاجم ادعاء '\n",
      " 'كرومر أن \"المسلم المصري متعصب متعطش للدماء يبحث عن أي فرصة لقتل المسيحيين',\n",
      " 'في مقال صحفي، كتب كامل:«إن الإنجليز قد ظلموا بعد ظلم، ولكنهم أقنعوا أوروبا '\n",
      " 'بأننا شعب متعصب، نعادي كل المسيحيين',\n",
      " 'هذه هي أم كل الأكاذيب! نحن لسنا متعصبين أو معاديين للمسيحيين',\n",
      " 'نحن شعب حكيم ومضياف والدليل لا يقبل الجدل',\n",
      " '',\n",
      " '',\n",
      " 'على مدى القرن الماضي، كنا على اتصال مباشر مع أوروبا وخاصة فرنسا، ولم نكن '\n",
      " 'أبدًا معاديين لأحد',\n",
      " 'على العكس من ذلك، يجد العالم بأسره في مصر كرم الضيافة',\n",
      " 'إذا كان أعداؤنا يدعون أننا متعصبون دينيون، فقد حان الوقت لوضع حد لخدعهم '\n",
      " 'وأساطيرهم».كان كامل يميل إلى تصوير العلاقات بين الأغلبية العربية المسلمة '\n",
      " 'والأقلية المسيحية القبطية في مصر على أنها مثالية، بحجة أن مصر كانت أمة '\n",
      " 'متسامحة وليست مثل صورة اللورد كرومر للأمة المسلمة «المتعصبة» التي تضطهد '\n",
      " 'الأقباط',\n",
      " 'لمواجهة حجة كرومر، صاغ كامل شعار \"\"Libre chez nous، hospitalers pour tous\" \" '\n",
      " '(«أحرار في بلادنا، ومضيافون للجميع»)، والذي أصبح شعاره الأبرز.']\n"
     ]
    },
    {
     "data": {
      "text/plain": [
       "[34, 18, 27, 1, 1, 7, 51, 49, 19, 11, 8, 1, 1, 17, 11, 48, 22]"
      ]
     },
     "execution_count": 29,
     "metadata": {},
     "output_type": "execute_result"
    }
   ],
   "source": [
    "AR_COMMA = \"،\"\n",
    "AR_SEMICOLON = \"؛\"\n",
    "\n",
    "AR_FULL_STOP = \" .\"\n",
    "AR_FULL_STOP = \". \"\n",
    "\n",
    "# line = \"الماء الماء مادةٌ ما دة ٌ شفافةٌ ش فاف ة ٌ عديمة ع دي مة اللون اللون والرائحة و ال را ئ حة ، ، وهو وهو المكوّن ال م كو ّ ن الأساسي ال أس اسي للجداول ل ل جد اول والبحيرات و ال بح ير ات والبحار و ال بح ار والمحيطات و الم حي طات وكذلك وكذلك للسوائل ل لس وا ئل في في جميع جميع الكائنات ال كا ئن ات الحيّة ال حي ّة ، ، وهو وهو أكثر أكثر المركّبات ال مر ك ّ بات الكيميائيّة ال كي مي ائي ّة انتشاراً انتشار اً على على سطح سطح الأرض الأرض . . يتألّف ي ت أ ل ّ ف جزيء ج زي ء الماء الماء من من ذرّة ذ ر ّة أكسجين أ كس جين مركزية مركز ية ترتبط تر تب ط بها بها ذرّتا ذ ر ّ تا هيدروجين هي در وج ين على على طرفيها طرف يها برابطة بر اب طة تساهميّة ت سا هم يّة بحيث بحيث تكون تكون صيغته ص ي غ ته الكيميائية ال كي مي ائية H2O H 2 O . . عند عند الظروف ال ظر وف القياسية ال قياس ية من من الضغط الضغط ودرجة و در جة الحرارة الحرارة يكون يكون الماء الماء سائلاً س ائل اً ؛ ؛ أمّا أم ّ ا الحالة الحالة الصلبة ال صل بة فتتشكّل ف ت تش ك ّل عند عند نقطة نقطة التجمّد ال تج م ّ د ، ، وتدعى و ت دعى بالجليد با ل جل يد ؛ ؛ أمّا أم ّ ا الحالة الحالة الغازية ال غا زية فتتشكّل ف ت تش ك ّل عند عند نقطة نقطة الغليان ال غل يان ، ، وتسمّى و تس م ّ ى بخار ب خار الماء الماء . .\"\n",
    "\n",
    "line = \"\"\"اختلف كامل بشدة مع ادعاءات اللورد كرومر المتكررة بأن «الشرقيين» ليس لديهم نفس القدرة على التفكير التي يتمتع بها الأوروبيون، وكانت الكثير من كتاباته معنية بإظهار أن المصريين عاقلون ولديهم القدرة على التفكير الذكي. كما هاجم كامل كرومر في خطاب لمحاولته «إنهاء النفوذ الفرنسي، الذي لا يزال واسع النطاق ومهيمنًا بشكل مفرط». رأى كامل بأن النظام التعليمي المصري الذي كان في يوم من الأيام مكانًا «للمعلمين المصريين المخلصين والفرنسيين، هو الآن مكان التقاء المغامرين البريطانيين الأكثر جهلًا والأكثر غرورًا. . . يحاول البريطانيون إنشاء مدارس أنجلوفيلية بحتة لأطفالنا. لن تصدق كمية دروس الكراهية التي تعطى يوميا ضد فرنسا وتركيا.» انتقد كامل كرومر كثيرًا لإهماله النظام التعليمي المصري، مجادلاً بأنه إذا كان كرومر قد اهتم بتعليم المصريين بدلاً من سداد الديون التي تراكمت على إسماعيل من خلال استغلال مصر، لكان قد رأى أن المصريين يمتلكون الذكاء الذي نفى أنهم يمتلكونه. وفي خطاب إلى «\"سوسيتي دو جيوغرافي دو باريس»،\" احتج كامل على التلميحات بأن «المصريين لا يصلحون لحكم بلدهم» ووصفها بالافتراء، الذي يمكن لأي شخص عاقل دحضه.\" عند كتابته للجماهير الأوروبية، وخاصة الفرنسية، كثيرا ما هاجم ادعاء كرومر أن \"المسلم المصري متعصب متعطش للدماء يبحث عن أي فرصة لقتل المسيحيين. في مقال صحفي، كتب كامل:«إن الإنجليز قد ظلموا بعد ظلم، ولكنهم أقنعوا أوروبا بأننا شعب متعصب، نعادي كل المسيحيين. هذه هي أم كل الأكاذيب! نحن لسنا متعصبين أو معاديين للمسيحيين. نحن شعب حكيم ومضياف والدليل لا يقبل الجدل. . . على مدى القرن الماضي، كنا على اتصال مباشر مع أوروبا وخاصة فرنسا، ولم نكن أبدًا معاديين لأحد. على العكس من ذلك، يجد العالم بأسره في مصر كرم الضيافة. إذا كان أعداؤنا يدعون أننا متعصبون دينيون، فقد حان الوقت لوضع حد لخدعهم وأساطيرهم».كان كامل يميل إلى تصوير العلاقات بين الأغلبية العربية المسلمة والأقلية المسيحية القبطية في مصر على أنها مثالية، بحجة أن مصر كانت أمة متسامحة وليست مثل صورة اللورد كرومر للأمة المسلمة «المتعصبة» التي تضطهد الأقباط. لمواجهة حجة كرومر، صاغ كامل شعار \"\"Libre chez nous، hospitalers pour tous\" \" («أحرار في بلادنا، ومضيافون للجميع»)، والذي أصبح شعاره الأبرز.\"\"\"\n",
    "\n",
    "# splitt = line.split(\" \")\n",
    "splitt = line.split(AR_FULL_STOP)\n",
    "print(f\"{len(splitt)=}\")\n",
    "# print(f'{splitt=}')\n",
    "from pprint import pprint\n",
    "\n",
    "pprint(splitt)\n",
    "[len(el.split(\" \")) for el in splitt]"
   ]
  },
  {
   "cell_type": "code",
   "execution_count": 8,
   "id": "704d05f7",
   "metadata": {
    "ExecuteTime": {
     "end_time": "2023-02-10T23:29:03.028990Z",
     "start_time": "2023-02-10T23:29:03.010693Z"
    }
   },
   "outputs": [
    {
     "name": "stdout",
     "output_type": "stream",
     "text": [
      "1002:حظي كامل باهتمام واسع خارج مصر لأول مرة عندما قدم التماساً لمجلس النواب الفرنسي في باريس في يونيو 1895 يطلب من الحكومة الفرنسية الضغط على بريطانيا لمغادرة مصر. ودفع كامل مقابل طباعة ملصق يُظهره وهو يقدم التماسًا إلى ماريان في «معبد العقل» يطلب منها تحرير مصر، مع وقوف الجماهير المصرية البائسة خلفه بينما يقف جندي بريطاني يمسك بامرأة مقيدة في سلاسل ترمز إلى مصر في مقدمة الملصق. على يمين ماريان يقف العم سام وشخصيات رمزية أخرى لأمم أخرى في العالم، والذين كانوا جميعًا يبدون سعداء. صار ملصق كامل مع تمثيله الرمزي لوضع مصر شائعًا للغاية، وأعيد طبعه في العديد من الصحف الأوروبية والأمريكية في عام 1895. في خطاب ألقاه بالفرنسية في تولوز في 4 يوليو 1895، اتهم كامل اللورد كرومر بـ «التعيين المتعمد لرجال عاجزين أو غير مبالين أو خونة على رأس وزارات الحكومة المصرية وغيرها من المناصب الإدارية. وبهذه الطريقة لا يتلاعب بهؤلاء الرجال فقط كأداة تحت سيطرته ولكنه يستخدم عدم كفاءة هؤلاء الرجال ليحاول أن يثبت لأوروبا أن بلادنا تفتقر إلى طبقة إدارية حاكمة». وفي نفس الخطاب، دعا كامل إلى مساعدة فرنسا قائلا: «من واجب فرنسا.. التدخل وإنقاذنا. . . فرنسا التي أيقظت مصر من سباتها العميق وعاملتنا دائمًا مثل أعز نسلها، وكسبت في هذه العملية احترامنا الأبدي، النابع من أعماق قلوبنا»\n",
      "1008:اختلف كامل بشدة مع ادعاءات اللورد كرومر المتكررة بأن «الشرقيين» ليس لديهم نفس القدرة على التفكير التي يتمتع بها الأوروبيون، وكانت الكثير من كتاباته معنية بإظهار أن المصريين عاقلون ولديهم القدرة على التفكير الذكي. كما هاجم كامل كرومر في خطاب لمحاولته «إنهاء النفوذ الفرنسي، الذي لا يزال واسع النطاق ومهيمنًا بشكل مفرط». رأى كامل بأن النظام التعليمي المصري الذي كان في يوم من الأيام مكانًا «للمعلمين المصريين المخلصين والفرنسيين، هو الآن مكان التقاء المغامرين البريطانيين الأكثر جهلًا والأكثر غرورًا. . . يحاول البريطانيون إنشاء مدارس أنجلوفيلية بحتة لأطفالنا. لن تصدق كمية دروس الكراهية التي تعطى يوميا ضد فرنسا وتركيا.» انتقد كامل كرومر كثيرًا لإهماله النظام التعليمي المصري، مجادلاً بأنه إذا كان كرومر قد اهتم بتعليم المصريين بدلاً من سداد الديون التي تراكمت على إسماعيل من خلال استغلال مصر، لكان قد رأى أن المصريين يمتلكون الذكاء الذي نفى أنهم يمتلكونه. وفي خطاب إلى «\"سوسيتي دو جيوغرافي دو باريس»،\" احتج كامل على التلميحات بأن «المصريين لا يصلحون لحكم بلدهم» ووصفها بالافتراء، الذي يمكن لأي شخص عاقل دحضه.\" عند كتابته للجماهير الأوروبية، وخاصة الفرنسية، كثيرا ما هاجم ادعاء كرومر أن \"المسلم المصري متعصب متعطش للدماء يبحث عن أي فرصة لقتل المسيحيين. في مقال صحفي، كتب كامل:«إن الإنجليز قد ظلموا بعد ظلم، ولكنهم أقنعوا أوروبا بأننا شعب متعصب، نعادي كل المسيحيين. هذه هي أم كل الأكاذيب! نحن لسنا متعصبين أو معاديين للمسيحيين. نحن شعب حكيم ومضياف والدليل لا يقبل الجدل. . . على مدى القرن الماضي، كنا على اتصال مباشر مع أوروبا وخاصة فرنسا، ولم نكن أبدًا معاديين لأحد. على العكس من ذلك، يجد العالم بأسره في مصر كرم الضيافة. إذا كان أعداؤنا يدعون أننا متعصبون دينيون، فقد حان الوقت لوضع حد لخدعهم وأساطيرهم».كان كامل يميل إلى تصوير العلاقات بين الأغلبية العربية المسلمة والأقلية المسيحية القبطية في مصر على أنها مثالية، بحجة أن مصر كانت أمة متسامحة وليست مثل صورة اللورد كرومر للأمة المسلمة «المتعصبة» التي تضطهد الأقباط. لمواجهة حجة كرومر، صاغ كامل شعار \"\"Libre chez nous، hospitalers pour tous\" \" («أحرار في بلادنا، ومضيافون للجميع»)، والذي أصبح شعاره الأبرز.\n",
      "1010:كتب كامل في كتابه \"الشمس المشرقة عام 1904:\"«لو كان الأوروبيون صادقين في دعايتهم وخطابهم بأنهم يريدون أن يُحَضِّروا كل البشر وأنهم لم يدخلوا البلدان إلا ليأخذوا شعوبها بأيديهم لوضعهم على طريق الحضارة لكانوا سعداء بتقدم العرق الأصفر وتطوره ولكانوا قد اعتبروا اليابان أعظم قصة في التحضر. لكن الحقيقة والواقع أن التنافس يظل هو القاعدة العامة في البشرية. يعمل الجميع من أجل الإضرار بخصمه. لا يرغب الأوروبيون في تقدم الشرقيين ولا يرغب الشرقيون في استمرار السيادة الأوروبية»في مقال آخر في سبتمبر 1904، كتب كامل أن الانتصارات اليابانية ضد روسيا هي «مجد لكل شرقي». عندما علم كامل أن صديقه الفرنسي بيير لوتي الذي كان يدعم روسيا ضد اليابان قد أنهى صداقتهما بسبب هذه القضية، كتب كامل محبطًا إلى آدم في 9 يونيو 1905:«أنا حزين للغاية لمعرفة أن لوتي قد تغير تعامله نحوي. . . إذا كنت قد تحدثت عن حماسي لليابان أمامه، فذلك لأنني لا أستطيع إخفاء رأيي ومشاعري ؛. . . كيف يندهش لأنني مع اليابانيين؛ كل شعبي يتفق معي. لنفحص الأمر من وجهة نظر المصري والمسلم. من بين الدولتين المتحاربتين، لم تؤذ اليابان مصر ولا الإسلام. من ناحية أخرى، أضرت روسيا مصر في زمن عظمتها في عهد محمد علي [محمد علي الكبير]، أعظم ضرر بحرق أسطولها، بالتنسيق مع إنجلترا (دائمة الغدر) وفرنسا (المخدوعة دائما) [كامل كان يشير إلى معركة نافارين عام 1827 عندما دمر أسطول أنجلو-فرنسي-روسي الأسطول العثماني المصري قبالة سواحل اليونان]. وبمواجهتهم محمد علي أخطر مواجهة، فقد فعلوا للإسلام ولشعوب المسلمين أحلك الشرور. هذا السبب رقم 1. ثانيًا، لم يكن تحالف إنجلترا مع اليابان هو الذي قضي على استقلال بلدي، وإنما تحالف إنجلترا الغادرة مع فرنسا. لماذا إذن يجب أن أكون مناهضًا لليابان؟ أنا، الذي أعشق الوطنيين وأجد بين اليابانيين أفضل مثال على الوطنية؟ أليس الشعب الياباني هو الشعب الشرقي الوحيد الذي وضع أوروبا في مكانها الصحيح؟ كيف لا أحبهم؟ إنني أتفهم جيداً حزنكم واستياءكم، لكني كنت سأشارككم هذا الحزن والأسى لو بقيت فرنسا معنا».يهتم جزء كبير من كتاب \"الشمس المشرقة\" \"بإصلاح\" ميجي مع تصوير الإمبراطور ميجي بصورة البطل الذي قام بتحديث اليابان من خلال إنهاء التوكوغاوا باكوفو، وهو الأمر الذي فهمه الجمهور المصري على أنه دعوة للخديوي عباس حلمي لتحديث مصر من خلال إنهاء الاحتلال البريطاني. تم توضيح الرسالة عندما قارن كامل التوكوغاوا باكوفو، غير القادر على الوقوف في وجه القوى الأجنبية التي استهزأت باليابان، مع الوضع الحالي للعالم الإسلامي، والذي هو أيضًا غير قادر على الوقوف في وجه الأجانب، وأعرب عن أمله في أن يكون كل من عبد الحميد الثاني وعباس حلمي الثاني قادرين على محاكاة الإمبراطور ميجي.\n",
      "1015:في 26 يوليو 1906 ألقى كامل خطابًا في فندق كارلتون بلندن، بدأ بإلقاء الضوء على تاريخ الأقلية القبطية في مصر لمواجهة حجة كرومر عن «تعصب» المصريين المسلمين، ثم هاجم كرومر لإهماله للنظام التعليمي المصري، متهمًا إياه بالتسبب في أن أجيالاً بأكملها من المصريين لم يتعلموا منذ أن تولى مسئولية مصر. ثم انتقل كامل إلى التعليق على حادثة دنشواي قائلاً: «أنشأ اللورد كرومر محكمة خاصة في ديشواي والتي أثارت غضب الجميع ... محكمة لا تتبع أي نص قانوني ولا أعراف. . . . كان وجودها بمثابة مهزلة ضد الإنسانية والحقوق المدنية للشعب المصري ونقض لشرف الحضارة البريطانية.» بعد ذلك، زار كامل 10 داوننج ستريت للقاء رئيس الوزراء، هنري كامبل بانرمان. طلب كامبل بانرمان من كامل قائمة بالمصريين القادرين على تولي منصب الوزارة، مما دفعه لكتابة 32 اسمًا، تم تعيين العديد منهم في مجلس الوزراء المصري. أدت حادثة دنشواي إلى استقالة اللورد كرومر في مارس 1907، وفي خطاب استقالته، أشار كرومر لأول مرة إلى كامل بالاسم، فكتب: «لو كنت أصغر سنًا، كان من الأفضل أن أستمتع بمحاربة الخديوي ومصطفى كامل وحلفائهم من الإنجليز، علاوة على ذلك، أعتقد أنني يجب أن أهزمهم».\n"
     ]
    }
   ],
   "source": [
    "%%bash\n",
    "# note there are some formatting issues with RTL character order when displayed in jupyter\n",
    "grep -n '\\. \\.' text/AA/wiki_97 "
   ]
  },
  {
   "cell_type": "markdown",
   "id": "68742cfc",
   "metadata": {},
   "source": [
    "## Downsample the corpus\n",
    "\n",
    "We do this before romanizing, as romanizing takes significant time.\n",
    "\n",
    "Q: Should we maybe do this before tokenizing as well? \n",
    "\n",
    "Note: \n",
    "* downsampling by random line numbers should come *after* stripping the wikitext markup.\n",
    "* it should also come *after* the extra preprocessing of splitting sentences on full stops and commas etc\n",
    "\n",
    "awk 'NR==FNR{ pos[$1]; next }FNR in pos' positions.txt data.txt\n",
    "\n",
    "    NR==FNR{ ... } - processing the 1st input file (i.e. positions.txt):\n",
    "        pos[$1] - accumulating positions(record numbers) set as pos array keys\n",
    "        next - jump to next record\n",
    "    FNR in pos - while processing the 2nd input file data.txt(FNR indicates how many records have been read from the current input file). Print record only if current record number FNR is in array of positions pos (search on keys)\n"
   ]
  },
  {
   "cell_type": "code",
   "execution_count": 19,
   "id": "5272f0c4",
   "metadata": {
    "ExecuteTime": {
     "end_time": "2023-02-10T21:29:28.946972Z",
     "start_time": "2023-02-10T21:29:28.938926Z"
    }
   },
   "outputs": [],
   "source": [
    "def random_sample(count, start, stop, step=1):\n",
    "    \"\"\"https://stackoverflow.com/questions/65142129/how-can-i-generate-a-large-set-of-random-numbers-without-collision-on-python\"\"\"\n",
    "    random_list = set()\n",
    "\n",
    "    while len(random_list) < count:\n",
    "        random_list.add(random.randrange(start, stop, step))\n",
    "    return list(random_list)\n",
    "\n",
    "\n",
    "# print(random_sample(count=10, start=1, stop=50, step=1))\n",
    "\n",
    "\n",
    "def get_idx_keep_list(idx_max, keep_size=70_000):\n",
    "    if keep_size > idx_max:\n",
    "        return None\n",
    "    idx_list = random_sample(count=keep_size, start=1, stop=idx_max, step=1)\n",
    "    # Start with 0 or 1? Not sure which awk uses for first line num.\n",
    "    idx_list = sorted(idx_list)\n",
    "    return idx_list"
   ]
  },
  {
   "cell_type": "code",
   "execution_count": 20,
   "id": "8fae296b",
   "metadata": {
    "ExecuteTime": {
     "end_time": "2023-02-10T21:40:07.649171Z",
     "start_time": "2023-02-10T21:40:07.638946Z"
    }
   },
   "outputs": [
    {
     "data": {
      "text/plain": [
       "[9, 12, 13, 24]"
      ]
     },
     "execution_count": 20,
     "metadata": {},
     "output_type": "execute_result"
    }
   ],
   "source": [
    "# Testing the function defs\n",
    "length = 99_000_000\n",
    "length = 40\n",
    "get_idx_keep_list(length, keep_size=4)"
   ]
  },
  {
   "cell_type": "code",
   "execution_count": 21,
   "id": "d1f03fa4",
   "metadata": {
    "ExecuteTime": {
     "end_time": "2023-02-10T21:28:17.702543Z",
     "start_time": "2023-02-10T21:28:17.695381Z"
    }
   },
   "outputs": [],
   "source": [
    "# Could also use approx line count for speed: http://www.documentroot.com/2011/02/approximate-line-count-for-very-large.html\n",
    "def buf_count_newlines_gen(fname):\n",
    "    \"\"\"https://stackoverflow.com/questions/845058/how-to-get-line-count-of-a-large-file-cheaply-in-python/68385697#68385697\"\"\"\n",
    "\n",
    "    def _make_gen(reader):\n",
    "        while True:\n",
    "            b = reader(2**16)\n",
    "            if not b:\n",
    "                break\n",
    "            yield b\n",
    "\n",
    "    with open(fname, \"rb\") as f:\n",
    "        count = sum(buf.count(b\"\\n\") for buf in _make_gen(f.raw.read))\n",
    "    return count\n",
    "\n",
    "\n",
    "# Testing\n",
    "# buf_count_newlines_gen('corpus_ar_preprocessed.txt') # takes 6 seconds: 429_668_304 lines"
   ]
  },
  {
   "cell_type": "code",
   "execution_count": 22,
   "id": "e6a863d0",
   "metadata": {
    "ExecuteTime": {
     "end_time": "2023-02-10T21:37:45.697360Z",
     "start_time": "2023-02-10T21:37:45.688924Z"
    }
   },
   "outputs": [],
   "source": [
    "def _write_list_to_file(input_list, outfile_path=sys.stdout):\n",
    "    \"\"\"Write a list to a file, newline-separated, each element of list on its own line.\"\"\"\n",
    "    try:\n",
    "        outfile_path = Path(outfile_path).resolve()\n",
    "    except:\n",
    "        pass\n",
    "    input_list = [str(el) for el in input_list]\n",
    "    with open(outfile_path, \"w\", encoding=\"utf8\") as f:\n",
    "        f.writelines(\n",
    "            \"\\n\".join(input_list)\n",
    "        )  # writelines() does not append its own newlines"
   ]
  },
  {
   "cell_type": "code",
   "execution_count": 23,
   "id": "ff5e989e",
   "metadata": {
    "ExecuteTime": {
     "end_time": "2023-02-10T21:51:35.862907Z",
     "start_time": "2023-02-10T21:51:27.273747Z"
    }
   },
   "outputs": [
    {
     "data": {
      "text/plain": [
       "7853892"
      ]
     },
     "execution_count": 23,
     "metadata": {},
     "output_type": "execute_result"
    }
   ],
   "source": [
    "# counting newlines in 'corpus_ar_preprocessed.txt' # takes ~8 seconds. result: 7_853_892 lines\n",
    "number_of_lines_in_file = buf_count_newlines_gen(\"corpus_ar_preprocessed.txt\")\n",
    "number_of_lines_in_file"
   ]
  },
  {
   "cell_type": "code",
   "execution_count": 24,
   "id": "da697ebd-7ff5-44c8-9486-d66cb4b4e431",
   "metadata": {
    "ExecuteTime": {
     "end_time": "2023-02-10T21:31:24.471696Z",
     "start_time": "2023-02-10T21:31:24.343403Z"
    }
   },
   "outputs": [],
   "source": [
    "KEEP_SIZE = 70_000\n",
    "# KEEP_SIZE = 70 # for testing\n",
    "which_lines_to_keep = get_idx_keep_list(number_of_lines_in_file, keep_size=KEEP_SIZE)"
   ]
  },
  {
   "cell_type": "code",
   "execution_count": 31,
   "id": "e482eb66-dcfd-4564-82f2-33a178adf5cd",
   "metadata": {
    "ExecuteTime": {
     "end_time": "2023-02-10T21:31:24.471696Z",
     "start_time": "2023-02-10T21:31:24.343403Z"
    }
   },
   "outputs": [
    {
     "data": {
      "text/plain": [
       "([7853028,\n",
       "  7853105,\n",
       "  7853184,\n",
       "  7853224,\n",
       "  7853353,\n",
       "  7853491,\n",
       "  7853602,\n",
       "  7853615,\n",
       "  7853828,\n",
       "  7853848],\n",
       " 70000)"
      ]
     },
     "execution_count": 31,
     "metadata": {},
     "output_type": "execute_result"
    }
   ],
   "source": [
    "which_lines_to_keep[-10:], len(which_lines_to_keep)"
   ]
  },
  {
   "cell_type": "code",
   "execution_count": 24,
   "id": "ac171f4c",
   "metadata": {
    "ExecuteTime": {
     "end_time": "2023-02-10T21:38:44.753128Z",
     "start_time": "2023-02-10T21:38:44.628238Z"
    }
   },
   "outputs": [],
   "source": [
    "_write_list_to_file(which_lines_to_keep, outfile_path=\"positions.txt\")\n",
    "# ! tail positions.txt"
   ]
  },
  {
   "cell_type": "code",
   "execution_count": null,
   "id": "911ceb25",
   "metadata": {
    "ExecuteTime": {
     "end_time": "2023-02-10T22:03:48.094518Z",
     "start_time": "2023-02-10T22:03:38.022738Z"
    }
   },
   "outputs": [],
   "source": [
    "%%bash\n",
    "# awk 'NR==FNR{ pos[$1]; next }FNR in pos' positions.txt data.txt\n",
    "\n",
    "# 4 backslashes because:\n",
    "# https://stackoverflow.com/questions/43924863/awk-split-on-n  \n",
    "\n",
    "# Filter the corpus, keeping only the lines as per the line numbers in positions.txt:\n",
    "awk -F '\\\\\\\\n'  'NR==FNR{ pos[$1]; next }FNR in pos'  positions.txt  corpus_ar_preprocessed.txt  \\\n",
    "    > corpus_ar_preprocessed_downsampled.txt"
   ]
  },
  {
   "cell_type": "code",
   "execution_count": 1,
   "id": "eee45b4b",
   "metadata": {
    "ExecuteTime": {
     "end_time": "2023-02-11T13:04:15.011703Z",
     "start_time": "2023-02-11T13:04:14.909706Z"
    }
   },
   "outputs": [
    {
     "name": "stdout",
     "output_type": "stream",
     "text": [
      "70000 corpus_ar_preprocessed_downsampled.txt\n",
      "على على شكل شكل جليد ج ليد . .\n",
      "يعدّ يعد ّ الماء الماء أساسيّاً أساس ي ّ اً لحدوث ل حد وث عملية عملية التركيب التركيب الضوئي ال ض و ئي وبالتالي وبالتالي التنفس ال تن فس الخلوي ال خل وي عند عند الكائنات ال كا ئن ات الحيّة ال حي ّة . . تقوم تقوم خلايا خ لا يا النباتات النباتات أثناء أثناء عمليّة عمل يّة التركيب التركيب الضوئي ال ض و ئي باستخدام باستخدام طاقة ط اقة الشمس الشمس لفصم ل ف ص م الهيدروجين ال ه يد روج ين عن عن الأكسجين ال أ كس جين في في جزيء ج زي ء الماء الماء ، ، حيث حيث يتحدّ ي ت حد ّ الهيدروجين ال ه يد روج ين مع مع ثنائي ث نائي أكسيد أ كس يد الكربون ال كر بون CO2 CO 2 ليشكّل لي ش ك ّل الغلوكوز ال غل وك وز ويحرّر و يح ر ّ ر الأكسجين ال أ كس جين . . بالمقابل با لم قابل تستخدم تستخدم الكائنات ال كا ئن ات الحيّة ال حي ّة الأكسجين ال أ كس جين لتحرق ل ت حر ق السكر ال سكر ( ( الكربوهيدرات ال كر بو ه يد رات بشكل بشكل عام عام ) ) لتحرر ل ت حر ر الماء الماء وغاز و غا ز ثنائي ث نائي أكسيد أ كس يد الكربون ال كر بون من من أجل أجل تأمين ت أمين الطاقة الطاقة لاستمرار لا ست مر ار الحياة الحياة . . للماء ل لم اء أيضاً أيضاً دور دور مهمّ مهم ّ في في تأمين ت أمين وسط وسط معتدل مع ت دل أس أ س هيدروجيني هي در وج يني ~ ~ 7 7 ، ، وبالتالي وبالتالي في في عمل عمل الإنزيمات ال إن زي مات . . بالنهاية با لن ها ية تحتاج تحت اج كلّ كل ّ الكائنات ال كا ئن ات الحيّة ال حي ّة إلى إلى كمّيّات كم ّ ي ّ ات من من الماء الماء للقيام ل لق يام بعمليّاتها ب عمل ي ّ اتها الحيويّة ال حي وي ّة ، ، مثل مثل التخلص ال ت خل ص من من الفضلات ال فضل ات على على سبيل سبيل المثال المثال . .\n"
     ]
    }
   ],
   "source": [
    "%%bash\n",
    "wc -l corpus_ar_preprocessed_downsampled.txt\n",
    "head -n 2 corpus_ar_preprocessed_downsampled.txt"
   ]
  },
  {
   "cell_type": "markdown",
   "id": "e93f1d60",
   "metadata": {},
   "source": [
    "## Romanize it with uroman"
   ]
  },
  {
   "cell_type": "markdown",
   "id": "f4a50bf7",
   "metadata": {},
   "source": [
    "Cf. https://github.com/isi-nlp/uroman \n",
    "\n",
    "...\n",
    "\n",
    "### Usage\n",
    "```bash\n",
    "$ uroman.pl [-l <lang-code>] [--chart] [--no-cache] < STDIN\n",
    "       where the optional <lang-code> is a 3-letter languages code, e.g. ara, bel, bul, deu, ell, eng, fas,\n",
    "            grc, ell, eng, heb, kaz, kir, lav, lit, mkd, mkd2, oss, pnt, pus, rus, srp, srp2, tur, uig, ukr, yid.\n",
    "       --chart specifies chart output (in JSON format) to represent alternative romanizations.\n",
    "       --no-cache disables caching.\n",
    "```\n",
    "### Examples\n",
    "```bash\n",
    "$ bin/uroman.pl < text/zho.txt\n",
    "$ bin/uroman.pl -l tur < text/tur.txt\n",
    "$ bin/uroman.pl -l heb --chart < text/heb.txt\n",
    "$ bin/uroman.pl < test/multi-script.txt > test/multi-script.uroman.txt\n",
    "```\n",
    "\n",
    "Identifying the input as Arabic, Belarusian, Bulgarian, English, Farsi, German,\n",
    "Ancient Greek, Modern Greek, Pontic Greek, Hebrew, Kazakh, Kyrgyz, Latvian,\n",
    "Lithuanian, North Macedonian, Russian, Serbian, Turkish, Ukrainian, Uyghur or \n",
    "Yiddish will improve romanization for those languages as some letters in those \n",
    "languages have different sound values from other languages using the same script \n",
    "(French, Russian, Hebrew respectively).\n",
    "No effect for other languages in this version.\n",
    "\n",
    "..."
   ]
  },
  {
   "cell_type": "markdown",
   "id": "af2b78f8",
   "metadata": {},
   "source": [
    "script uroman-quick.pl for Arabic script languages, incl. Uyghur.\n",
    "   Much faster, pre-caching mapping of Arabic to Latin characters, simple greedy processing.\n"
   ]
  },
  {
   "cell_type": "code",
   "execution_count": null,
   "id": "a1f5bf91",
   "metadata": {},
   "outputs": [],
   "source": [
    "# ! uroman.pl -l ara   < STDIN   > BLA.uroman.txt\n",
    "\n",
    "# !  ./uroman.pl -l ara   < ~/cours/LexResCerisara/ANSProj/faroese_mBERT/text/AA/wiki_00   | less"
   ]
  },
  {
   "cell_type": "markdown",
   "id": "63632578",
   "metadata": {},
   "source": [
    "```bash\n",
    "╭─user at s-m2tal in ⌁/cours/LexResCerisara/ANSProj/uroman/bin (master ✔)\n",
    "╰─λ ./uroman.pl -l ara   < ~/cours/LexResCerisara/ANSProj/faroese_mBERT/text/AA/wiki_00   | tail                     \n",
    "\n",
    "tkhtlf aljam'a al'rbya akhtlafa kbyra 'n alathad alawrwby, flm thqq aljam'a al'rbya mqdara mlhwza mn altkaml aliqlymy, wlys lljam'a 'laqa mbashra m' aldwl ala'da'. wlkn aljam'a al'rbya mbnya 'la mbadye td'm wtrwj lqwmya 'rbya mwhda wtwhyd mwaqf aldwl ala'da' bkhsws mkhtlf alqdaya.\n",
    "jmy' a'da' aljam'a al'rbya a'da' fy mnzma almwtmr alislamy. kma an hnak mjmw'at fr'ya fy aljam'a, mthl «mjls alt'awn alkhlyjy» w«athad almghrb al'rby».\n",
    "qayema alqmm al'rbya.\n",
    "mnth tasys aljam'a al'rbya fy 'am 1945 'qd alqada al'rb 39 ajtma' qma, bynha 25 qma 'adya w11 qmm taryea, ila janb thlatha qmm aqtsadya:\n",
    "alantqadat.\n",
    "in jam'a aldwl al'rbya lys fqt twajh alantqadat mn aldwl alakhra\n",
    "bl inha lys lha sh'bya lda m'zm alsh'wb al'rbya bsbb anha fshlt fy hl alkthyr mn alqdaya al'rbya wl'l abrzha alsra' al'rby alisrayeyly wahtlal alkyan alshywny llarady alflstynya 'am 1948 w'am 1967\n",
    "walkthyr mn alqdaya kalazma alswrya whl mshkla alsh'b alswry althy asbh y'any alljw' waltshryd fy aldwl almjawra walghyr mjawra 'da anh ywajh almwt mn jmy' atraf alnza' dakhl wtnh swrya.\n",
    "\n",
    "</doc>\n",
    "\n",
    "╭─user at s-m2tal in ⌁/cours/LexResCerisara/ANSProj/uroman/bin (master ✔)\n",
    "                                                                                     \n",
    "(base) 0 (10.730s) < 17:26:52\n",
    "\n",
    "```\n",
    "\n",
    "\n",
    "```bash\n",
    "╭─user at s-m2tal in ⌁/cours/LexResCerisara/ANSProj/uroman/bin (master ✔)\n",
    "╰─λ ./uroman-quick.pl -l ara   < ~/cours/LexResCerisara/ANSProj/faroese_mBERT/text/AA/wiki_00   | tail               \n",
    "\n",
    "..\n",
    "tkhtlf aljam'a al'rbya akhtlafa kbyra 'n alathad alawrwby, flm thqq aljam'a al'rbya mqdara mlhwza mn altkaml aliqlymy, wlys lljam'a 'laqa mbashra m' aldwl ala'da'. wlkn aljam'a al'rbya mbnya 'la mbadye td'm wtrwj lqwmya 'rbya mwhda wtwhyd mwaqf aldwl ala'da' bkhsws mkhtlf alqdaya.\n",
    "jmy' a'da' aljam'a al'rbya a'da' fy mnzma almwtmr alislamy. kma an hnak mjmw'at fr'ya fy aljam'a, mthl «mjls alt'awn alkhlyjy» w«athad almghrb al'rby».\n",
    "qayema alqmm al'rbya.\n",
    "mnth tasys aljam'a al'rbya fy 'am 1945 'qd alqada al'rb 39 ajtma' qma, bynha 25 qma 'adya w11 qmm taryea, ila janb thlatha qmm aqtsadya:\n",
    "alantqadat.\n",
    "in jam'a aldwl al'rbya lys fqt twajh alantqadat mn aldwl alakhra\n",
    "bl inha lys lha sh'bya lda m'zm alsh'wb al'rbya bsbb anha fshlt fy hl alkthyr mn alqdaya al'rbya wl'l abrzha alsra' al'rby alisrayeyly wahtlal alkyan alshywny llarady alflstynya 'am 1948 w'am 1967\n",
    "walkthyr mn alqdaya kalazma alswrya whl mshkla alsh'b alswry althy asbh y'any alljw' waltshryd fy aldwl almjawra walghyr mjawra 'da anh ywajh almwt mn jmy' atraf alnza' dakhl wtnh swrya.\n",
    "\n",
    "</doc>\n",
    "╭─user at s-m2tal in ⌁/cours/LexResCerisara/ANSProj/uroman/bin (master ✔)\n",
    "╰─λ                                                                                                                 \n",
    "\n",
    "(base) 0 (3.287s) < 17:29:39\n",
    "```"
   ]
  },
  {
   "cell_type": "code",
   "execution_count": 32,
   "id": "f245b9bd",
   "metadata": {
    "ExecuteTime": {
     "end_time": "2023-02-10T15:51:02.331448Z",
     "start_time": "2023-02-10T15:37:24.654523Z"
    }
   },
   "outputs": [],
   "source": [
    "#! ../uroman/bin/uroman-quick.pl -l ara   < corpus_ar_preprocessed.txt  > corpus_ar_preprocessed_rom.txt"
   ]
  },
  {
   "cell_type": "markdown",
   "id": "ce6fc7e7",
   "metadata": {},
   "source": [
    "```bash\n",
    "executed in 13m 38s, finished 16:51:02 2023-02-10\n",
    "       \n",
    "........47110000.........47120000.........47130000.........47140000.....^C\n",
    "```"
   ]
  },
  {
   "cell_type": "code",
   "execution_count": 49,
   "id": "8c2e653e",
   "metadata": {
    "ExecuteTime": {
     "end_time": "2023-02-10T22:09:49.220099Z",
     "start_time": "2023-02-10T22:07:29.445040Z"
    }
   },
   "outputs": [
    {
     "name": "stderr",
     "output_type": "stream",
     "text": [
      ".........10000.........20000.........30000.........40000.........50000.........60000.........70000\n"
     ]
    }
   ],
   "source": [
    "%%bash\n",
    "../uroman/bin/uroman-quick.pl -l ara   \\\n",
    "    < corpus_ar_preprocessed_downsampled.txt  \\\n",
    "    > corpus_ar_preprocessed_downsampled_rom.txt \n",
    "# executed in 2m 20s "
   ]
  },
  {
   "cell_type": "code",
   "execution_count": 51,
   "id": "4f9e5c89",
   "metadata": {
    "ExecuteTime": {
     "end_time": "2023-02-10T22:13:00.132941Z",
     "start_time": "2023-02-10T22:13:00.113291Z"
    }
   },
   "outputs": [
    {
     "name": "stdout",
     "output_type": "stream",
     "text": [
      "'la 'la shkl shkl jlyd j lyd . .\n",
      "y'd y'd  alma' alma' asasyan asas y  an lhdwth l hd wth 'mlya 'mlya altrkyb altrkyb aldwyey al d w yey wbaltaly wbaltaly altnfs al tn fs alkhlwy al khl wy 'nd 'nd alkayenat al ka yen at alhya al hy a . . tqwm tqwm khlaya kh la ya alnbatat alnbatat athna' athna' 'mlya 'ml ya altrkyb altrkyb aldwyey al d w yey bastkhdam bastkhdam taqa t aqa alshms alshms lfsm l f s m alhydrwjyn al h yd rwj yn 'n 'n alaksjyn al a ks jyn fy fy jzy' j zy ' alma' alma' , , hyth hyth ythd y t hd  alhydrwjyn al h yd rwj yn m' m' thnayey th nayey aksyd a ks yd alkrbwn al kr bwn CO2 CO 2 lyshkl ly sh k l alghlwkwz al ghl wk wz wyhrr w yh r  r alaksjyn al a ks jyn . . balmqabl ba lm qabl tstkhdm tstkhdm alkayenat al ka yen at alhya al hy a alaksjyn al a ks jyn lthrq l t hr q alskr al skr ( ( alkrbwhydrat al kr bw h yd rat bshkl bshkl 'am 'am ) ) lthrr l t hr r alma' alma' wghaz w gha z thnayey th nayey aksyd a ks yd alkrbwn al kr bwn mn mn ajl ajl tamyn t amyn altaqa altaqa lastmrar la st mr ar alhyaa alhyaa . . llma' l lm a' aydan aydan dwr dwr mhm mhm  fy fy tamyn t amyn wst wst m'tdl m' t dl as a s hydrwjyny hy dr wj yny ~ ~ 7 7 , , wbaltaly wbaltaly fy fy 'ml 'ml alinzymat al in zy mat . . balnhaya ba ln ha ya thtaj tht aj kl kl  alkayenat al ka yen at alhya al hy a ila ila kmyat km  y  at mn mn alma' alma' llqyam l lq yam b'mlyatha b 'ml y  atha alhywya al hy wy a , , mthl mthl altkhls al t khl s mn mn alfdlat al fdl at 'la 'la sbyl sbyl almthal almthal . .\n"
     ]
    }
   ],
   "source": [
    "%%bash\n",
    "head -n 2 corpus_ar_preprocessed_downsampled_rom.txt"
   ]
  },
  {
   "cell_type": "code",
   "execution_count": 33,
   "id": "e667611f",
   "metadata": {
    "ExecuteTime": {
     "end_time": "2023-02-11T16:12:36.650785Z",
     "start_time": "2023-02-11T16:12:28.723325Z"
    }
   },
   "outputs": [
    {
     "name": "stderr",
     "output_type": "stream",
     "text": [
      "+ du -h 1000-30000-vocab.txt ar_down_rom_stat_NR_length_NF.txt arwiki-20230201-sha1sums.txt corpus_ar_preprocessed_downsampled_rom.txt corpus_ar_preprocessed_downsampled.txt corpus_ar_preprocessed.txt corpus_ar.txt positions.txt requirements.ar_rom.txt unk_faroese.txt\n"
     ]
    },
    {
     "name": "stdout",
     "output_type": "stream",
     "text": [
      "144K\t1000-30000-vocab.txt\n",
      "852K\tar_down_rom_stat_NR_length_NF.txt\n",
      "20K\tarwiki-20230201-sha1sums.txt\n",
      "23M\tcorpus_ar_preprocessed_downsampled_rom.txt\n",
      "38M\tcorpus_ar_preprocessed_downsampled.txt\n",
      "4.2G\tcorpus_ar_preprocessed.txt\n",
      "2.0G\tcorpus_ar.txt\n",
      "540K\tpositions.txt\n",
      "4.0K\trequirements.ar_rom.txt\n",
      "4.0K\tunk_faroese.txt\n",
      "     19847 1000-30000-vocab.txt\n"
     ]
    },
    {
     "name": "stderr",
     "output_type": "stream",
     "text": [
      "+ wc -l 1000-30000-vocab.txt ar_down_rom_stat_NR_length_NF.txt arwiki-20230201-sha1sums.txt corpus_ar_preprocessed_downsampled_rom.txt corpus_ar_preprocessed_downsampled.txt corpus_ar_preprocessed.txt corpus_ar.txt positions.txt requirements.ar_rom.txt unk_faroese.txt\n"
     ]
    },
    {
     "name": "stdout",
     "output_type": "stream",
     "text": [
      "     70000 ar_down_rom_stat_NR_length_NF.txt\n",
      "       203 arwiki-20230201-sha1sums.txt\n",
      "     70000 corpus_ar_preprocessed_downsampled_rom.txt\n",
      "     70000 corpus_ar_preprocessed_downsampled.txt\n",
      "   7853892 corpus_ar_preprocessed.txt\n",
      "   7853892 corpus_ar.txt\n",
      "     69999 positions.txt\n",
      "         4 requirements.ar_rom.txt\n",
      "        12 unk_faroese.txt\n",
      "  16007849 total\n"
     ]
    }
   ],
   "source": [
    "%%bash\n",
    "set -x\n",
    "\n",
    "du -h *.txt\n",
    "wc -l *.txt"
   ]
  },
  {
   "cell_type": "code",
   "execution_count": 38,
   "id": "59ee91eb",
   "metadata": {
    "ExecuteTime": {
     "end_time": "2023-02-11T16:14:42.296108Z",
     "start_time": "2023-02-11T16:14:31.094585Z"
    }
   },
   "outputs": [
    {
     "name": "stderr",
     "output_type": "stream",
     "text": [
      "+ ls -l 1000-30000-vocab.txt ar_down_rom_stat_NR_length_NF.txt arwiki-20230201-sha1sums.txt corpus_ar_preprocessed_downsampled_rom.txt corpus_ar_preprocessed_downsampled.txt corpus_ar_preprocessed.txt corpus_ar.txt positions.txt requirements.ar_rom.txt unk_faroese.txt\n"
     ]
    },
    {
     "name": "stdout",
     "output_type": "stream",
     "text": [
      "-rwxr-xr-x 1 user user     144809 Feb  9 16:12 1000-30000-vocab.txt\n",
      "-rw-r--r-- 1 user user     870580 Feb 11 14:32 ar_down_rom_stat_NR_length_NF.txt\n",
      "-rw-r--r-- 1 user user      19150 Feb  3 03:21 arwiki-20230201-sha1sums.txt\n",
      "-rw-r--r-- 1 user user   23997584 Feb 10 23:09 corpus_ar_preprocessed_downsampled_rom.txt\n",
      "-rw-r--r-- 1 user user   39761138 Feb 10 23:03 corpus_ar_preprocessed_downsampled.txt\n",
      "-rw-r--r-- 1 user user 4485834050 Feb 10 19:02 corpus_ar_preprocessed.txt\n",
      "-rw-r--r-- 1 user user 2112007379 Feb 10 15:57 corpus_ar.txt\n",
      "-rw-r--r-- 1 user user     550137 Feb 10 22:38 positions.txt\n",
      "-rw-r--r-- 1 user user         48 Feb 11 14:25 requirements.ar_rom.txt\n",
      "-rwxr-xr-x 1 user user        276 Feb  9 16:12 unk_faroese.txt\n"
     ]
    },
    {
     "name": "stderr",
     "output_type": "stream",
     "text": [
      "+ sha1sum 1000-30000-vocab.txt ar_down_rom_stat_NR_length_NF.txt arwiki-20230201-sha1sums.txt corpus_ar_preprocessed_downsampled_rom.txt corpus_ar_preprocessed_downsampled.txt corpus_ar_preprocessed.txt corpus_ar.txt positions.txt requirements.ar_rom.txt unk_faroese.txt\n"
     ]
    },
    {
     "name": "stdout",
     "output_type": "stream",
     "text": [
      "7fe55437086ae2eb90a912dbc56f8745d301a8c6  1000-30000-vocab.txt\n",
      "b58e82f4b8504a778c626393e3ffabb27d4fc25b  ar_down_rom_stat_NR_length_NF.txt\n",
      "b141660d5cfcf88647bbf642f01a395ab6f1d3ae  arwiki-20230201-sha1sums.txt\n",
      "586e3ec83833a66597ebc668f898ca2194e67290  corpus_ar_preprocessed_downsampled_rom.txt\n",
      "435567009e0cd33c6051009e41a94c249ad9a2e6  corpus_ar_preprocessed_downsampled.txt\n",
      "74be9c01fe3569d8ebd73b3a18d5359483b792ce  corpus_ar_preprocessed.txt\n",
      "a380ba2de456a46586a04383c6c4d57099b94aec  corpus_ar.txt\n",
      "9261a3cabe51a5671bcbfe09615ebf0576caebdd  positions.txt\n",
      "6f073a2798797da69a27ae4dc7954aa728ac6adc  requirements.ar_rom.txt\n",
      "d2b35378fc14ec5ebf7409a371a7f091572101b6  unk_faroese.txt\n"
     ]
    }
   ],
   "source": [
    "%%bash\n",
    "set -x\n",
    "ls -l *.txt\n",
    "sha1sum *.txt"
   ]
  },
  {
   "cell_type": "markdown",
   "id": "234d6646",
   "metadata": {},
   "source": [
    "## Investigating size of the lines by number of words/tokens and characters"
   ]
  },
  {
   "cell_type": "markdown",
   "id": "082d6354",
   "metadata": {},
   "source": [
    "This is particularly necessary since we did not do specific segmentation for Arabic sentences."
   ]
  },
  {
   "cell_type": "code",
   "execution_count": 25,
   "id": "c7b9f8e8",
   "metadata": {
    "ExecuteTime": {
     "end_time": "2023-02-11T13:32:53.710449Z",
     "start_time": "2023-02-11T13:32:53.381702Z"
    }
   },
   "outputs": [],
   "source": [
    "%%bash\n",
    "# https://unix.stackexchange.com/questions/400650/counting-the-characters-of-each-line-with-wc  \n",
    "awk '{print NR, length, NF}' corpus_ar_preprocessed_downsampled_rom.txt  > ar_down_rom_stat_NR_length_NF.txt"
   ]
  },
  {
   "cell_type": "code",
   "execution_count": 82,
   "id": "e2fa2414",
   "metadata": {
    "ExecuteTime": {
     "end_time": "2023-02-11T14:18:45.719662Z",
     "start_time": "2023-02-11T14:18:45.674051Z"
    }
   },
   "outputs": [
    {
     "data": {
      "text/html": [
       "<div>\n",
       "<style scoped>\n",
       "    .dataframe tbody tr th:only-of-type {\n",
       "        vertical-align: middle;\n",
       "    }\n",
       "\n",
       "    .dataframe tbody tr th {\n",
       "        vertical-align: top;\n",
       "    }\n",
       "\n",
       "    .dataframe thead th {\n",
       "        text-align: right;\n",
       "    }\n",
       "</style>\n",
       "<table border=\"1\" class=\"dataframe\">\n",
       "  <thead>\n",
       "    <tr style=\"text-align: right;\">\n",
       "      <th></th>\n",
       "      <th>NR</th>\n",
       "      <th>length</th>\n",
       "      <th>NF</th>\n",
       "    </tr>\n",
       "  </thead>\n",
       "  <tbody>\n",
       "    <tr>\n",
       "      <th>count</th>\n",
       "      <td>70000.000000</td>\n",
       "      <td>70000.000000</td>\n",
       "      <td>70000.000000</td>\n",
       "    </tr>\n",
       "    <tr>\n",
       "      <th>mean</th>\n",
       "      <td>35000.500000</td>\n",
       "      <td>341.240971</td>\n",
       "      <td>83.748914</td>\n",
       "    </tr>\n",
       "    <tr>\n",
       "      <th>std</th>\n",
       "      <td>20207.403759</td>\n",
       "      <td>496.913101</td>\n",
       "      <td>122.572550</td>\n",
       "    </tr>\n",
       "    <tr>\n",
       "      <th>min</th>\n",
       "      <td>1.000000</td>\n",
       "      <td>0.000000</td>\n",
       "      <td>0.000000</td>\n",
       "    </tr>\n",
       "    <tr>\n",
       "      <th>25%</th>\n",
       "      <td>17500.750000</td>\n",
       "      <td>36.000000</td>\n",
       "      <td>9.000000</td>\n",
       "    </tr>\n",
       "    <tr>\n",
       "      <th>50%</th>\n",
       "      <td>35000.500000</td>\n",
       "      <td>104.000000</td>\n",
       "      <td>26.000000</td>\n",
       "    </tr>\n",
       "    <tr>\n",
       "      <th>75%</th>\n",
       "      <td>52500.250000</td>\n",
       "      <td>468.250000</td>\n",
       "      <td>113.000000</td>\n",
       "    </tr>\n",
       "    <tr>\n",
       "      <th>max</th>\n",
       "      <td>70000.000000</td>\n",
       "      <td>9053.000000</td>\n",
       "      <td>2368.000000</td>\n",
       "    </tr>\n",
       "  </tbody>\n",
       "</table>\n",
       "</div>"
      ],
      "text/plain": [
       "                 NR        length            NF\n",
       "count  70000.000000  70000.000000  70000.000000\n",
       "mean   35000.500000    341.240971     83.748914\n",
       "std    20207.403759    496.913101    122.572550\n",
       "min        1.000000      0.000000      0.000000\n",
       "25%    17500.750000     36.000000      9.000000\n",
       "50%    35000.500000    104.000000     26.000000\n",
       "75%    52500.250000    468.250000    113.000000\n",
       "max    70000.000000   9053.000000   2368.000000"
      ]
     },
     "execution_count": 82,
     "metadata": {},
     "output_type": "execute_result"
    }
   ],
   "source": [
    "\"\"\"NR: number of record (line number); \n",
    "length: number of characters in line; \n",
    "NF: number of fields (words)\"\"\"\n",
    "\n",
    "df = pd.read_csv(\"ar_down_rom_stat_NR_length_NF.txt\", sep=\" \", header=None)\n",
    "col_names = [\"NR\", \"length\", \"NF\"]\n",
    "df.columns = col_names\n",
    "\n",
    "df.head()\n",
    "df.describe()"
   ]
  },
  {
   "cell_type": "code",
   "execution_count": 84,
   "id": "ce780210",
   "metadata": {
    "ExecuteTime": {
     "end_time": "2023-02-11T14:19:16.256832Z",
     "start_time": "2023-02-11T14:19:14.689229Z"
    }
   },
   "outputs": [
    {
     "data": {
      "image/png": "[encoded data removed]",
      "text/plain": [
       "<Figure size 640x480 with 1 Axes>"
      ]
     },
     "metadata": {},
     "output_type": "display_data"
    },
    {
     "data": {
      "image/png": "[encoded data removed]",
      "text/plain": [
       "<Figure size 640x480 with 1 Axes>"
      ]
     },
     "metadata": {},
     "output_type": "display_data"
    },
    {
     "data": {
      "image/png": "[encoded data removed]",
      "text/plain": [
       "<Figure size 640x480 with 1 Axes>"
      ]
     },
     "metadata": {},
     "output_type": "display_data"
    },
    {
     "data": {
      "image/png": "[encoded data removed]",
      "text/plain": [
       "<Figure size 640x480 with 1 Axes>"
      ]
     },
     "metadata": {},
     "output_type": "display_data"
    }
   ],
   "source": [
    "sns.histplot(\n",
    "    data=df,\n",
    "    x=\"NF\",\n",
    "    y=\"length\",\n",
    "    #             bins=200,\n",
    ")\n",
    "plt.show()\n",
    "\n",
    "sns.histplot(data=df, x=\"NF\")\n",
    "plt.show()\n",
    "\n",
    "sns.boxplot(data=df, x=\"length\")\n",
    "plt.show()\n",
    "sns.boxplot(data=df, x=\"NF\")\n",
    "plt.show()"
   ]
  },
  {
   "cell_type": "code",
   "execution_count": 1,
   "id": "7da4a861",
   "metadata": {
    "ExecuteTime": {
     "end_time": "2023-02-11T15:25:56.523925Z",
     "start_time": "2023-02-11T15:25:56.319133Z"
    }
   },
   "outputs": [
    {
     "name": "stdout",
     "output_type": "stream",
     "text": [
      "5890\n",
      "6397\n"
     ]
    }
   ],
   "source": [
    "%%bash\n",
    "# https://stackoverflow.com/questions/60297162/count-the-number-of-lines-having-more-than-n-words-using-awk \n",
    "\n",
    "# lines with more than `num` words\n",
    "awk -v num=\"256\"  'NF >num{count++} END{print count}'  corpus_ar_preprocessed_downsampled_rom.txt\n",
    "\n",
    "# lines with more than `num` characters\n",
    "awk -v num=\"1000\"  'length >num{count++} END{print count}'  corpus_ar_preprocessed_downsampled_rom.txt"
   ]
  },
  {
   "cell_type": "markdown",
   "id": "9f092025",
   "metadata": {},
   "source": [
    "I think we can afford to lose a max of ~12k lines (most likely less, considering overlap between word/char criteria) from our 70k dataset, if need be (or we can downsample at higher than 70k, so that we can remove more lines by word/char length and still have enough.)\n",
    "\n",
    "Actually... BERT implementation probably does the truncation automatically, in which case our corpus is fine as-is.\n",
    "\n",
    "> \"We know that BERT has a max length limit of tokens = 512,  ... You cut the longer texts off and only use the first 512 Tokens. The original BERT implementation (and probably the others as well) truncates longer sequences automatically. For most cases, this option is sufficient.\" \n",
    "https://stackoverflow.com/questions/58636587/how-to-use-bert-for-long-text-classification  \n",
    "\n",
    "On our current corpus, this much of the corpus is >256 words: 5890/70_000 = 08.414 %.\n",
    "\n",
    "I think 8% of sentences getting truncated is fine. The majority of corpus is shorter than that, and wont get truncated at all."
   ]
  },
  {
   "cell_type": "code",
   "execution_count": 30,
   "id": "60dc5850",
   "metadata": {
    "ExecuteTime": {
     "end_time": "2023-02-11T16:09:40.174638Z",
     "start_time": "2023-02-11T16:09:39.357402Z"
    }
   },
   "outputs": [
    {
     "name": "stdout",
     "output_type": "stream",
     "text": [
      "Investigating the very short lines in corpus...\n",
      "how many lines with < 1 tokens :: 12\n",
      "how many lines with < 2 tokens :: 108\n",
      "how many lines with < 3 tokens :: 268\n",
      "how many lines with < 4 tokens :: 550\n",
      "how many lines with < 5 tokens :: 3252\n",
      "how many lines with < 6 tokens :: 5461\n",
      "how many lines with < 7 tokens :: 9737\n"
     ]
    }
   ],
   "source": [
    "%%bash\n",
    "echo \"Investigating the very short lines in corpus...\"\n",
    "for _num in $(seq 1 7) ; do\n",
    "    echo -n \"how many lines with < $_num tokens :: \" \n",
    "    awk -v num=$_num  'NF <num{count++} END{print count}'  corpus_ar_preprocessed_downsampled_rom.txt\n",
    "done"
   ]
  },
  {
   "cell_type": "code",
   "execution_count": 31,
   "id": "16846e7a",
   "metadata": {
    "ExecuteTime": {
     "end_time": "2023-02-11T16:09:41.949267Z",
     "start_time": "2023-02-11T16:09:41.023225Z"
    }
   },
   "outputs": [
    {
     "name": "stdout",
     "output_type": "stream",
     "text": [
      "Investigating the very short lines in corpus...\n",
      "how many lines with exactly 0 tokens :: 12\n",
      "how many lines with exactly 1 tokens :: 96\n",
      "how many lines with exactly 2 tokens :: 160\n",
      "how many lines with exactly 3 tokens :: 282\n",
      "how many lines with exactly 4 tokens :: 2702\n",
      "how many lines with exactly 5 tokens :: 2209\n",
      "how many lines with exactly 6 tokens :: 4276\n",
      "how many lines with exactly 7 tokens :: 3357\n"
     ]
    }
   ],
   "source": [
    "%%bash\n",
    "echo \"Investigating the very short lines in corpus...\"\n",
    "for _num in $(seq 0 7) ; do\n",
    "    echo -n \"how many lines with exactly $_num tokens :: \" \n",
    "    awk -v num=$_num  'NF ==num{count++} END{print count}'  corpus_ar_preprocessed_downsampled_rom.txt\n",
    "done"
   ]
  },
  {
   "cell_type": "markdown",
   "id": "83438b87",
   "metadata": {},
   "source": [
    "## Etc notes\n",
    "\n",
    "https://towardsdatascience.com/the-best-practice-of-reading-text-files-in-python-509b1d4f5a4  \n",
    "    \n",
    "https://pypi.org/project/textfile/  "
   ]
  }
 ],
 "metadata": {
  "kernelspec": {
   "display_name": "Python [conda env:LexResProject]",
   "language": "python",
   "name": "conda-env-LexResProject-py"
  },
  "language_info": {
   "codemirror_mode": {
    "name": "ipython",
    "version": 3
   },
   "file_extension": ".py",
   "mimetype": "text/x-python",
   "name": "python",
   "nbconvert_exporter": "python",
   "pygments_lexer": "ipython3",
   "version": "3.10.9"
  },
  "toc": {
   "base_numbering": 1,
   "nav_menu": {
    "height": "313px",
    "width": "379px"
   },
   "number_sections": true,
   "sideBar": true,
   "skip_h1_title": false,
   "title_cell": "Table of Contents",
   "title_sidebar": "Contents",
   "toc_cell": false,
   "toc_position": {},
   "toc_section_display": true,
   "toc_window_display": false
  },
  "varInspector": {
   "cols": {
    "lenName": 16,
    "lenType": 16,
    "lenVar": 40
   },
   "kernels_config": {
    "python": {
     "delete_cmd_postfix": "",
     "delete_cmd_prefix": "del ",
     "library": "var_list.py",
     "varRefreshCmd": "print(var_dic_list())"
    },
    "r": {
     "delete_cmd_postfix": ") ",
     "delete_cmd_prefix": "rm(",
     "library": "var_list.r",
     "varRefreshCmd": "cat(var_dic_list()) "
    }
   },
   "types_to_exclude": [
    "module",
    "function",
    "builtin_function_or_method",
    "instance",
    "_Feature"
   ],
   "window_display": false
  }
 },
 "nbformat": 4,
 "nbformat_minor": 5
}
